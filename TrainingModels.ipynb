{
 "cells": [
  {
   "cell_type": "code",
   "execution_count": null,
   "metadata": {},
   "outputs": [],
   "source": [
    "from heatmap_model.interaction_model import CTnet, CTnet_causal\n",
    "import numpy as np\n",
    "import sys\n",
    "import matplotlib.pyplot as plt\n",
    "%matplotlib inline \n",
    "\n",
    "import torch\n",
    "from torch import nn, Tensor\n",
    "import torchvision.datasets as dataset\n",
    "from torch.optim.lr_scheduler import StepLR\n",
    "import datetime\n",
    "\n",
    "from scipy.special import expit\n",
    "\n",
    "from heatmap_model.utils import *\n",
    "from heatmap_model.uncertainty_utils import *\n",
    "from heatmap_model.inference import *\n",
    "from heatmap_model.train import *\n",
    "from heatmap_model.interaction_dataset import *\n",
    "from heatmap_model.losses import *\n",
    "from vis_utils.visualization import *\n",
    "from config import *\n",
    "from scipy.interpolate import make_interp_spline\n",
    "\n",
    "from absl import logging\n",
    "logging._warn_preinit_stderr = 0\n",
    "logging.warning('Worrying Stuff')\n",
    "\n",
    "device = 'cuda' if torch.cuda.is_available() else 'cpu'\n",
    "print(f'Using {device} device')"
   ]
  },
  {
   "cell_type": "code",
   "execution_count": null,
   "metadata": {},
   "outputs": [],
   "source": [
    "# change hyper-parameters here\n",
    "para_train = paralist.copy()\n",
    "para_train['resolution'] = 0.5\n",
    "para_train['encoder_attention_size'] = 128\n",
    "para_train['epoches'] = 64\n",
    "para_train['test'] = False \n",
    "para_train['batch_size'] = 16\n",
    "para_train['step'] = 1"
   ]
  },
  {
   "cell_type": "code",
   "execution_count": null,
   "metadata": {},
   "outputs": [],
   "source": [
    "para_test = para_train.copy()\n",
    "para_test['test'] = True\n",
    "para_test['ymax'] = 85\n",
    "para_test['resolution'] = 0.5"
   ]
  },
  {
   "cell_type": "code",
   "execution_count": null,
   "metadata": {},
   "outputs": [],
   "source": [
    "dz = np.load('./results/kld.npz', allow_pickle=True)\n",
    "Dtest = dz['Dtest']"
   ]
  },
  {
   "cell_type": "code",
   "execution_count": null,
   "metadata": {},
   "outputs": [],
   "source": [
    "dz = np.load('./results/Utest3.npz', allow_pickle=True)\n",
    "Etest = dz['E']\n",
    "# dz = np.load('./results/Uval3.npz', allow_pickle=True)\n",
    "# Eval = dz['E'][:,-1]"
   ]
  },
  {
   "cell_type": "code",
   "execution_count": null,
   "metadata": {},
   "outputs": [],
   "source": [
    "dz = np.load('./results/Htest3.npz', allow_pickle=True)\n",
    "H = dz['Heatmap']\n",
    "Atest = seq_area(H,0.5,0.2)\n",
    "# dz = np.load('./results/Hval3.npz', allow_pickle=True)\n",
    "# H = dz['Heatmap']\n",
    "# Aval = seq_area(H,0.5,0.2)"
   ]
  },
  {
   "cell_type": "code",
   "execution_count": null,
   "metadata": {},
   "outputs": [],
   "source": [
    "# set test=True during inference, drivale is optional\n",
    "model = CTnet_causal(para_train).to(device)\n",
    "trainset = InteractionDataset(['train1', 'train2','train3','train4'], 'train', para_train)\n",
    "validationset = InteractionDataset(['val'], 'val', para_train)\n",
    "validation_loader = DataLoader(validationset, batch_size=para_train['batch_size'], shuffle=False)\n",
    "BATCH_SIZE = para_train['batch_size']\n",
    "EPOCH_NUMBER = para_train['epoches']\n",
    "loss = OverAllLoss_reg(para_train).to(device)"
   ]
  },
  {
   "cell_type": "code",
   "execution_count": null,
   "metadata": {
    "scrolled": true
   },
   "outputs": [],
   "source": [
    "optimizer = torch.optim.Adam(model.parameters(), lr=1e-3)\n",
    "scheduler_heatmap = StepLR(optimizer, step_size=1, gamma=0.975)\n",
    "train_model(EPOCH_NUMBER, BATCH_SIZE, trainset, model, optimizer, validation_loader, loss, scheduler_heatmap)"
   ]
  },
  {
   "cell_type": "code",
   "execution_count": null,
   "metadata": {},
   "outputs": [],
   "source": [
    "scenario, V, polygons = read_polygons()"
   ]
  },
  {
   "cell_type": "code",
   "execution_count": null,
   "metadata": {
    "scrolled": true
   },
   "outputs": [],
   "source": [
    "model = CTnet(para_test).to(device)\n",
    "model.encoder.load_state_dict(torch.load('./pretrained/encoder.pt'))\n",
    "model.decoder.load_state_dict(torch.load('./pretrained/decoder.pt'))\n",
    "model.eval()"
   ]
  },
  {
   "cell_type": "code",
   "execution_count": null,
   "metadata": {},
   "outputs": [],
   "source": [
    "testset = InteractionDataset(['val'], 'val', para_test)"
   ]
  },
  {
   "cell_type": "code",
   "execution_count": null,
   "metadata": {},
   "outputs": [],
   "source": [
    "POLY = Inference_Polygon_sup(model, para_test, 'valall', nmax=107848, T=30)"
   ]
  },
  {
   "cell_type": "code",
   "execution_count": null,
   "metadata": {},
   "outputs": [],
   "source": [
    "selected, _ = selected_trainset()\n",
    "print(len(selected))\n",
    "POLY = Inference_Polygon_train(model, para_test, selected)"
   ]
  },
  {
   "cell_type": "code",
   "execution_count": null,
   "metadata": {},
   "outputs": [],
   "source": [
    "len(POLY)"
   ]
  },
  {
   "cell_type": "code",
   "execution_count": null,
   "metadata": {},
   "outputs": [],
   "source": [
    "with open('poly_results/polygon_train.pkl', 'wb') as f:\n",
    "    pickle.dump(POLY, f)"
   ]
  },
  {
   "cell_type": "code",
   "execution_count": null,
   "metadata": {},
   "outputs": [],
   "source": [
    "ind = 2356#np.argsort(Dtest)[-3]\n",
    "print(ind, scenario[ind], V[ind])\n",
    "Ht = []\n",
    "for i in np.arange(0.1, 3.1, 0.1):\n",
    "    traj, maps, lanefeatures, adj, Af,c_mask, timestamp, gtxy = testset.test_sampling(ind, i)\n",
    "    # traj[:,1:] = 0\n",
    "    # adj[:,56:,56:] = 0\n",
    "    # c_mask[:,56:] = 0\n",
    "    heatmap = model(traj, maps, lanefeatures, adj, Af, c_mask, timestamp, gtxy)\n",
    "    hr = heatmap.detach().to('cpu').numpy()\n",
    "    hr = hr/np.amax(hr)\n",
    "    #hr[hr<0.1]=0\n",
    "    Ht.append(hr)\n",
    "Ht = np.array(Ht)\n",
    "Hsum = np.sum(Ht,0)"
   ]
  },
  {
   "cell_type": "code",
   "execution_count": null,
   "metadata": {},
   "outputs": [],
   "source": [
    "hist = testset.T[:, 0, :-1, 2:4]\n",
    "Y = trajectory_generation(Ht, para_test)"
   ]
  },
  {
   "cell_type": "code",
   "execution_count": null,
   "metadata": {},
   "outputs": [],
   "source": [
    "for i in range(len(polygons)):\n",
    "    if len(polygons[i][-1]) > 1:\n",
    "        print(i)\n",
    "#Y[:,1] = Y[:,1]*1.1"
   ]
  },
  {
   "cell_type": "code",
   "execution_count": null,
   "metadata": {},
   "outputs": [],
   "source": [
    "Y = ModalSamplingm2(Ht[-1], 0.4, para_test, r=2., k=6)"
   ]
  },
  {
   "cell_type": "code",
   "execution_count": null,
   "metadata": {},
   "outputs": [],
   "source": [
    "Ys = []\n",
    "Y  = []"
   ]
  },
  {
   "cell_type": "code",
   "execution_count": null,
   "metadata": {},
   "outputs": [],
   "source": [
    "fig, (ax1, ax2, ax3) = plt.subplots(1,3,figsize=(7.5,7.5))"
   ]
  },
  {
   "cell_type": "code",
   "execution_count": null,
   "metadata": {},
   "outputs": [],
   "source": [
    "fig, ax1 = Visualize_index_double(ind, Ht[-1]**1.5, [], Y[-1:], 'Predictor', [-25,20], [-25,95], para_test, fig, ax1, mode='test')"
   ]
  },
  {
   "cell_type": "code",
   "execution_count": null,
   "metadata": {},
   "outputs": [],
   "source": [
    "fig, ax2 = Visualize_index_double(ind, Hsum, [], [], 'Regularizor', [-25,20], [-25,95], para_test, fig, ax2, mode='valall')"
   ]
  },
  {
   "cell_type": "code",
   "execution_count": null,
   "metadata": {},
   "outputs": [],
   "source": [
    "fig, ax3 = Visualize_index_double(ind, Ht[-1],[], Y[-1:], 'Drive alone', [-25,20], [-25,95], para_test, fig, ax3, mode='test')"
   ]
  },
  {
   "cell_type": "code",
   "execution_count": null,
   "metadata": {},
   "outputs": [],
   "source": [
    "fig, axes = Visualize_index(ind, Ht[-1], [], [], sum(polygons[ind][::5], []), '', [-25, 25], [-12, 35], para=para_test, mode='valall')"
   ]
  },
  {
   "cell_type": "code",
   "execution_count": null,
   "metadata": {},
   "outputs": [],
   "source": [
    "fig.savefig('imgs/uqnet_ap1.jpg', dpi=600)"
   ]
  },
  {
   "cell_type": "code",
   "execution_count": null,
   "metadata": {},
   "outputs": [],
   "source": [
    "polygon = np.array(polygons[0][-1][0])\n",
    "p = np.array(polygon)\n",
    "px = (p[:,1]+46)/2\n",
    "py = (p[:,0]+24)/2\n",
    "p = Polygon(np.array([px, py]).T)\n",
    "p2 = Polygon(np.array(polygon))\n",
    "plt.plot(*p.exterior.xy)\n",
    "plt.plot(*p2.exterior.xy)"
   ]
  },
  {
   "cell_type": "code",
   "execution_count": null,
   "metadata": {},
   "outputs": [],
   "source": [
    "Yp = final_prediction(model, testset, para_test, mode='test')"
   ]
  },
  {
   "cell_type": "code",
   "execution_count": null,
   "metadata": {},
   "outputs": [],
   "source": [
    "polygons[ind][-1]"
   ]
  },
  {
   "cell_type": "code",
   "execution_count": null,
   "metadata": {},
   "outputs": [],
   "source": [
    "np.savez_compressed('./results/fpcontrast1', FinalPoint=Yp)"
   ]
  },
  {
   "cell_type": "code",
   "execution_count": null,
   "metadata": {},
   "outputs": [],
   "source": [
    "FDE, MR = ComputeError(Yp,testset.Y[:,-1], r=1.5, sh=2)"
   ]
  },
  {
   "cell_type": "code",
   "execution_count": null,
   "metadata": {},
   "outputs": [],
   "source": [
    "Ht[Ht<0.1] = -3"
   ]
  },
  {
   "cell_type": "code",
   "execution_count": null,
   "metadata": {},
   "outputs": [],
   "source": [
    "datafiles = os.listdir('./rawdata/test/')\n",
    "datafiles.sort()"
   ]
  },
  {
   "cell_type": "code",
   "execution_count": null,
   "metadata": {},
   "outputs": [],
   "source": [
    "Ht.shape"
   ]
  },
  {
   "cell_type": "code",
   "execution_count": null,
   "metadata": {},
   "outputs": [],
   "source": [
    "with open('./interaction_merge/test_index.pickle', 'rb') as f:\n",
    "    Dnew = pickle.load(f)"
   ]
  },
  {
   "cell_type": "code",
   "execution_count": null,
   "metadata": {},
   "outputs": [],
   "source": [
    "S = np.zeros(len(Dnew[0]))\n",
    "for i in tqdm(range(len(Dnew[0]))):\n",
    "    file_id = int(Dnew[0][i][:-6])\n",
    "    if file_id in [1,2,3,6,7,8,9]:\n",
    "        S[i] = 1\n",
    "    if file_id in [5,11,12,13,14]:\n",
    "        S[i] = 2\n",
    "    if file_id in [4,10, 15, 16, 17]:\n",
    "        S[i] = 3"
   ]
  },
  {
   "cell_type": "code",
   "execution_count": null,
   "metadata": {},
   "outputs": [],
   "source": [
    "S = np.zeros(len(Dnew[0]))\n",
    "for i in tqdm(range(len(Dnew[0]))):\n",
    "    file_id = int(Dnew[0][i][:-6])\n",
    "    if file_id in [1,2,4]:\n",
    "        S[i] = 1\n",
    "    if file_id in [6,7,8,9]:\n",
    "        S[i] = 2\n",
    "    if file_id in [3, 5, 10, 11, 12]:\n",
    "        S[i] = 3"
   ]
  },
  {
   "cell_type": "code",
   "execution_count": null,
   "metadata": {},
   "outputs": [],
   "source": [
    "with open('Uresult/test_scenario.pkl', 'wb') as f:\n",
    "    pickle.dump(S.astype(int).tolist(), f)"
   ]
  },
  {
   "cell_type": "code",
   "execution_count": null,
   "metadata": {},
   "outputs": [],
   "source": [
    "len(np.where(S==3)[0])"
   ]
  },
  {
   "cell_type": "code",
   "execution_count": null,
   "metadata": {},
   "outputs": [],
   "source": [
    "plt.plot(Aval[ind].T-3)\n",
    "plt.show()"
   ]
  },
  {
   "cell_type": "code",
   "execution_count": null,
   "metadata": {},
   "outputs": [],
   "source": [
    "plt.hist(Atest[:,-1], bins=30)\n",
    "plt.show()"
   ]
  },
  {
   "cell_type": "code",
   "execution_count": null,
   "metadata": {},
   "outputs": [],
   "source": [
    "#plt.rcParams[\"figure.figsize\"] = (6,2)\n",
    "fig=plt.figure(figsize=(6,2))\n",
    "ax=fig.add_subplot(111)\n",
    "ax.plot(np.arange(0.1, 3.1, 0.1), Atest[1791]-1.8, linewidth=3)\n",
    "#plt.scatter(np.arange(0.1, 3.1, 0.1), np.mean(E, 0))\n",
    "#plt.hlines(1.62, 0, 3.1,linestyles='dashed', label='added white noise')\n",
    "plt.xlim(0.1,3)\n",
    "plt.ylim(0, 60)\n",
    "plt.xlabel('t(s)', fontsize=12)\n",
    "plt.ylabel('A ($m^2$)', fontsize=12)\n",
    "plt.title('A(t) for test case-1791', fontsize=14)\n",
    "ax.xaxis.set_label_coords(0.95,0.2)\n",
    "ax.yaxis.set_label_coords(0.08,0.7)\n",
    "plt.grid()\n",
    "#plt.legend()\n",
    "plt.savefig('./imgs/Atest1791.pdf')\n",
    "plt.show()"
   ]
  },
  {
   "cell_type": "code",
   "execution_count": null,
   "metadata": {},
   "outputs": [],
   "source": [
    "Y = testset.Y[:,-1]"
   ]
  },
  {
   "cell_type": "code",
   "execution_count": null,
   "metadata": {},
   "outputs": [],
   "source": [
    "dz = np.load('./results/Hval3.npz', allow_pickle=True)\n",
    "H = dz['Heatmap'][-1]"
   ]
  },
  {
   "cell_type": "code",
   "execution_count": null,
   "metadata": {},
   "outputs": [],
   "source": [
    "nll = np.zeros(len(H))\n",
    "for i in range(len(H)):\n",
    "    print(i, end='\\r')\n",
    "    #nll[i] = NLLEstimate(H[i].toarray(), Y[i], para_test)\n",
    "    nll[i] = NLLEstimate_test(H[i].toarray(), para_test)"
   ]
  },
  {
   "cell_type": "code",
   "execution_count": null,
   "metadata": {},
   "outputs": [],
   "source": [
    "plt.plot(Y[:,0], Y[:,1])\n",
    "plt.show()"
   ]
  },
  {
   "cell_type": "code",
   "execution_count": null,
   "metadata": {},
   "outputs": [],
   "source": [
    "S = bezier_curve(H[:,6459], n=39)"
   ]
  },
  {
   "cell_type": "code",
   "execution_count": null,
   "metadata": {},
   "outputs": [],
   "source": [
    "plt.plot(S[:,0], S[:,1])\n",
    "plt.plot(H[:,6459,0], H[:,6459,1])\n",
    "plt.show()"
   ]
  },
  {
   "cell_type": "code",
   "execution_count": null,
   "metadata": {},
   "outputs": [],
   "source": [
    "H = rawtrajectory(model, para_test, 'val', batchsize=4, T=30)"
   ]
  },
  {
   "cell_type": "code",
   "execution_count": null,
   "metadata": {},
   "outputs": [],
   "source": [
    "np.savez_compressed('./results/rawtrajval2', T=H)"
   ]
  },
  {
   "cell_type": "code",
   "execution_count": null,
   "metadata": {},
   "outputs": [],
   "source": [
    "H.shape"
   ]
  },
  {
   "cell_type": "code",
   "execution_count": null,
   "metadata": {},
   "outputs": [],
   "source": [
    "plt.plot(H[:,6459,0], H[:,6459,1])\n",
    "plt.show()"
   ]
  },
  {
   "cell_type": "code",
   "execution_count": null,
   "metadata": {},
   "outputs": [],
   "source": [
    "V = np.sqrt(testset.T[:,0,-1,4]**2+testset.T[:,0,-1,5]**2)"
   ]
  },
  {
   "cell_type": "code",
   "execution_count": null,
   "metadata": {},
   "outputs": [],
   "source": [
    "testset = InteractionDataset(['val'], 'val', para_test)"
   ]
  },
  {
   "cell_type": "code",
   "execution_count": null,
   "metadata": {},
   "outputs": [],
   "source": [
    "V = np.sqrt(testset.T[:,0,-1,4]**2+testset.T[:,0,-1,5]**2)"
   ]
  },
  {
   "cell_type": "code",
   "execution_count": null,
   "metadata": {},
   "outputs": [],
   "source": [
    "np.savez_compressed('./results/valspeed', V=V)"
   ]
  },
  {
   "cell_type": "code",
   "execution_count": null,
   "metadata": {},
   "outputs": [],
   "source": [
    "with open('./interaction_merge/val_index.pickle', 'rb') as f:\n",
    "    Dnew = pickle.load(f)"
   ]
  },
  {
   "cell_type": "code",
   "execution_count": null,
   "metadata": {},
   "outputs": [],
   "source": [
    "len(Dnew[0])"
   ]
  },
  {
   "cell_type": "code",
   "execution_count": null,
   "metadata": {},
   "outputs": [],
   "source": [
    "Dnew[0]"
   ]
  },
  {
   "cell_type": "code",
   "execution_count": null,
   "metadata": {},
   "outputs": [],
   "source": [
    "with open('./interaction_merge/val_all_index.pickle', 'rb') as f:\n",
    "    Dnew = pickle.load(f)"
   ]
  },
  {
   "cell_type": "code",
   "execution_count": null,
   "metadata": {},
   "outputs": [],
   "source": [
    "from tqdm import tqdm\n",
    "import gc\n",
    "F = []\n",
    "Nb = []\n",
    "\n",
    "for i in tqdm(range(len(Dnew[0]))):\n",
    "    head = Dnew[0][i]\n",
    "    for car in Dnew[1][i]:\n",
    "        gc.disable()\n",
    "        F.append(head)\n",
    "        Nb.append(car)\n",
    "        gc.enable()\n",
    "\n",
    "D = (np.array(F), np.array(Nb).astype('str'))\n"
   ]
  },
  {
   "cell_type": "code",
   "execution_count": null,
   "metadata": {},
   "outputs": [],
   "source": [
    "import pickle\n",
    "with open('./interaction_merge/valall_index.pickle', 'wb') as handle:\n",
    "    pickle.dump(D, handle, protocol=pickle.HIGHEST_PROTOCOL)"
   ]
  },
  {
   "cell_type": "code",
   "execution_count": null,
   "metadata": {},
   "outputs": [],
   "source": [
    "D[0]"
   ]
  },
  {
   "cell_type": "code",
   "execution_count": null,
   "metadata": {},
   "outputs": [],
   "source": []
  }
 ],
 "metadata": {
  "kernelspec": {
   "display_name": "Python 3 (ipykernel)",
   "language": "python",
   "name": "python3"
  },
  "language_info": {
   "codemirror_mode": {
    "name": "ipython",
    "version": 3
   },
   "file_extension": ".py",
   "mimetype": "text/x-python",
   "name": "python",
   "nbconvert_exporter": "python",
   "pygments_lexer": "ipython3",
   "version": "3.9.12"
  },
  "vscode": {
   "interpreter": {
    "hash": "4ae53b28fce039c03e6ec32adcc8158280bdda5ac41969e59f34277a4f6f571a"
   }
  }
 },
 "nbformat": 4,
 "nbformat_minor": 2
}
