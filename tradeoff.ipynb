{
 "cells": [
  {
   "cell_type": "code",
   "execution_count": 1,
   "metadata": {},
   "outputs": [],
   "source": [
    "import numpy as np\n",
    "import matplotlib.pyplot as plt\n",
    "from heatmap_model.uncertainty_utils import *\n",
    "%matplotlib inline\n",
    "import pickle\n",
    "import seaborn as sns\n",
    "from scipy.optimize import curve_fit\n",
    "\n",
    "from skimage.transform import rescale\n",
    "from skimage import measure\n",
    "\n",
    "\n",
    "from mpl_toolkits.axes_grid1.inset_locator import zoomed_inset_axes\n",
    "from mpl_toolkits.axes_grid1.inset_locator import inset_axes\n",
    "from mpl_toolkits.axes_grid1.inset_locator import mark_inset"
   ]
  },
  {
   "cell_type": "code",
   "execution_count": 2,
   "metadata": {},
   "outputs": [],
   "source": [
    "data = np.load('./Uresult/area_e.npz', allow_pickle=True)\n",
    "A = data['A']/4\n",
    "\n",
    "with open(\"./Uresult/polygons.pkl\", \"rb\") as fp:\n",
    "    b = pickle.load(fp)\n",
    "P90, _, V, _ = b\n",
    "\n",
    "B = np.arange(0.2, 4.2, 0.2)"
   ]
  },
  {
   "cell_type": "code",
   "execution_count": 4,
   "metadata": {},
   "outputs": [],
   "source": [
    "with open('Uresult/polygon_test.pkl', 'wb') as f:\n",
    "    pickle.dump(P90[:22498], f)"
   ]
  },
  {
   "cell_type": "code",
   "execution_count": null,
   "metadata": {},
   "outputs": [],
   "source": [
    "dz = np.load('./results/testspeed.npz', allow_pickle=True)\n",
    "Vtest = dz['V']\n",
    "dz = np.load('./results/valspeed.npz', allow_pickle=True)\n",
    "Vval = dz['V']\n",
    "\n",
    "Vr = np.concatenate([Vtest, Vval], 0)"
   ]
  },
  {
   "cell_type": "code",
   "execution_count": null,
   "metadata": {},
   "outputs": [],
   "source": [
    "Vr[:3]"
   ]
  },
  {
   "cell_type": "code",
   "execution_count": null,
   "metadata": {},
   "outputs": [],
   "source": [
    "plt.scatter(V, V/A[13,:,-1], s=0.2)\n",
    "plt.scatter(V, V/A[-1,:,-1], s=0.2)\n",
    "plt.show()"
   ]
  },
  {
   "cell_type": "code",
   "execution_count": null,
   "metadata": {},
   "outputs": [],
   "source": [
    "Y = np.zeros((20, 30))\n",
    "xv = np.linspace(0,28,200)\n",
    "for i in tqdm(range(30)):\n",
    "    for j in range(20):\n",
    "        p = np.polyfit(V,V/A[j,:,i],2)\n",
    "        Y[j,i] = np.amax(np.polyval(p, xv))"
   ]
  },
  {
   "cell_type": "code",
   "execution_count": null,
   "metadata": {},
   "outputs": [],
   "source": [
    "for i in range(20):\n",
    "    for j in range(30):\n",
    "        if j<int(5+i/10):\n",
    "            Y[i,j] = Y[i,int(5+i/10)]"
   ]
  },
  {
   "cell_type": "code",
   "execution_count": null,
   "metadata": {},
   "outputs": [],
   "source": [
    "Yr = rescale(Y, 2, anti_aliasing=False)*3.25*3600\n",
    "horizon = np.linspace(0.05, 3.0, 60)\n",
    "contours = measure.find_contours(Yr, 2000)\n",
    "buffer = np.linspace(0.2, 4.0, 40)\n",
    "X_, Y_ = np.meshgrid(horizon, buffer)\n",
    "fig, ax = plt.subplots(figsize=(7,4))\n",
    "#rs = ax.contourf(X_, Y_, Yr, zorder=-1)\n",
    "rs = ax.pcolormesh(X_, Y_, Yr[:40], cmap='rainbow')\n",
    "CS = ax.contour(X_, Y_, Yr[:40], cmap='inferno_r')\n",
    "ax.clabel(CS,  inline=False, fontsize=12, colors = 'black')\n",
    "#ax.hlines(2.0, 0.05, 3.0)\n",
    "#ax.plot(contours[0][:,1]/60*3+0.05, contours[0][:,0]/10-0.2, c='black', linestyle='--')\n",
    "plt.xlabel('maximum prediction horizon (s)', fontsize=12)\n",
    "plt.ylabel('time headway coefficient (s)', fontsize=12)\n",
    "#plt.text(1.5, 2., '1800', fontsize=12)\n",
    "cbar = plt.colorbar(rs, label='Road capacity, pcu/(lane$\\cdot$h)')\n",
    "fig.tight_layout()\n",
    "#plt.yscale('log')\n",
    "plt.ylim(0.6, 3.6)\n",
    "#plt.savefig('./imgs/tradeoff.pdf', dpi=600)\n",
    "plt.show()"
   ]
  },
  {
   "cell_type": "code",
   "execution_count": null,
   "metadata": {},
   "outputs": [],
   "source": [
    "fig, ax = plt.subplots(figsize=(6,4))\n",
    "ax.plot(contours[0][:,1]/60*3+0.05, contours[0][:,0]/10-0.1, c='black', label='1800 pcu/(lane$\\cdot$h)')\n",
    "plt.xlabel('maximum prediction horizon (s)', fontsize=12)\n",
    "plt.ylabel('time headway coefficient (s)', fontsize=12)\n",
    "plt.xlim(0,3.0)\n",
    "plt.ylim(0.6, 2.5)\n",
    "ax.hlines(2.0, 0., 3.0, linestyles='--', colors='blue')\n",
    "ax.hlines(1.5, 0., 3.0, linestyles='--', colors='red')\n",
    "ax.vlines(1.6, 1.4, 2.4, linestyles='-.', colors='blue')\n",
    "ax.vlines(2.87, 1.4, 2.4, linestyles='-.', colors='red')\n",
    "\n",
    "plt.text(1.6, 2.1, '1.61s', fontsize=12)\n",
    "plt.text(2.5, 1.55, '2.87s', fontsize=12)\n",
    "plt.legend()\n",
    "fig.tight_layout()\n",
    "#plt.savefig('./imgs/tradeoff1800.pdf', dpi=600)\n",
    "plt.show()"
   ]
  },
  {
   "cell_type": "code",
   "execution_count": null,
   "metadata": {},
   "outputs": [],
   "source": [
    "with open(\"./Uresult/polygons.pkl\", \"rb\") as fp:\n",
    "    b = pickle.load(fp)\n",
    "P90, P80, V, _ = b"
   ]
  },
  {
   "cell_type": "code",
   "execution_count": null,
   "metadata": {},
   "outputs": [],
   "source": [
    "A = []\n",
    "for d in [i*0.1 for i in range(2, 42, 2)]:\n",
    "    print(d)\n",
    "    a = get_occupied_area_test1(P90, V, k=d, safety_buffer=3)\n",
    "    A.append(a)\n",
    "A = np.array(A)"
   ]
  },
  {
   "cell_type": "code",
   "execution_count": null,
   "metadata": {},
   "outputs": [],
   "source": [
    "np.savez_compressed('./Uresult/area.npz', A=A, B=np.arange(2, 42, 2)*0.1)"
   ]
  },
  {
   "cell_type": "code",
   "execution_count": null,
   "metadata": {},
   "outputs": [],
   "source": [
    "v = np.linspace(0.1,25,500)\n",
    "thw = 1.8 + 2/v\n",
    "flux = v/(1.8*v+2)\n",
    "\n",
    "fig, ax = plt.subplots(1, 3, figsize=(10.5,3))\n",
    "ax[0].plot(v, thw, c='blue')\n",
    "ax[0].hlines(1.8, 0, 30, linestyle='--')\n",
    "ax[0].set_ylim(0,10)\n",
    "ax[0].set_xlim(0,15)\n",
    "ax[0].set_xlabel('speed (m/s)')\n",
    "ax[0].set_ylabel('time headway (s)')\n",
    "ax[0].text(2,1,'k')\n",
    "\n",
    "ax[1].plot(v, flux, c='blue')\n",
    "ax[1].hlines(1/1.8, 0, 30, linestyle='--')\n",
    "ax[1].set_ylim(0,0.6)\n",
    "ax[1].set_xlim(0,25)\n",
    "ax[1].set_xlabel('speed (m/s)')\n",
    "ax[1].set_ylabel('flux (pcu/s/m)')\n",
    "ax[1].text(2,0.5,r'$\\frac{1}{2k}$', fontsize=12)\n",
    "\n",
    "ax[2].plot(xv, yv, c='blue', zorder=10)\n",
    "ax[2].scatter(V,V/A[6,:,24], color='red', s=0.2, zorder=0, alpha=0.4)\n",
    "ax[2].set_ylim(0,0.6)\n",
    "ax[2].set_xlim(0,28)\n",
    "ax[2].set_xlabel('speed (m/s)')\n",
    "ax[2].set_ylabel('flux (pcu/s/m)')\n",
    "#ax[2].text(2,0.25,r'$\\frac{1}{2k}$', fontsize=12)\n",
    "\n",
    "ax[0].set_title('setting of thw coefficient')\n",
    "ax[1].set_title('ignore prediction uncertainty')\n",
    "ax[2].set_title('consider prediction uncertainty')\n",
    "\n",
    "fig.tight_layout()\n",
    "#plt.savefig('./imgs/fluxexample.pdf', dpi=600)\n",
    "plt.show()\n"
   ]
  },
  {
   "cell_type": "code",
   "execution_count": null,
   "metadata": {},
   "outputs": [],
   "source": [
    "Yr.shape"
   ]
  },
  {
   "cell_type": "code",
   "execution_count": null,
   "metadata": {},
   "outputs": [],
   "source": [
    "plt.plot(xv, yv)\n",
    "plt.scatter(V,V/A[6,:,24])"
   ]
  },
  {
   "cell_type": "code",
   "execution_count": null,
   "metadata": {},
   "outputs": [],
   "source": [
    "a = get_occupied_area_test2(P90, V, k=2.1, safety_buffer=5)"
   ]
  },
  {
   "cell_type": "code",
   "execution_count": null,
   "metadata": {},
   "outputs": [],
   "source": [
    "len(P90[0])"
   ]
  },
  {
   "cell_type": "code",
   "execution_count": null,
   "metadata": {},
   "outputs": [],
   "source": []
  }
 ],
 "metadata": {
  "kernelspec": {
   "display_name": "torch39",
   "language": "python",
   "name": "python3"
  },
  "language_info": {
   "codemirror_mode": {
    "name": "ipython",
    "version": 3
   },
   "file_extension": ".py",
   "mimetype": "text/x-python",
   "name": "python",
   "nbconvert_exporter": "python",
   "pygments_lexer": "ipython3",
   "version": "3.9.12"
  },
  "orig_nbformat": 4
 },
 "nbformat": 4,
 "nbformat_minor": 2
}
